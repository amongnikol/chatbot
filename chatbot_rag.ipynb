{
 "cells": [
  {
   "cell_type": "code",
   "execution_count": null,
   "metadata": {},
   "outputs": [],
   "source": [
    "ASPEK USABILITY PADA PENGEMBANGAN APLIKASI LATIHAN BEBAN BERBASIS ANDROID UNTUK MENINGKATKAN AKTIVITAS FISIK"
   ]
  },
  {
   "cell_type": "code",
   "execution_count": 11,
   "metadata": {},
   "outputs": [
    {
     "name": "stdout",
     "output_type": "stream",
     "text": [
      "[Document(metadata={'source': 'ASPEK USABILITY PADA PENGEMBANGAN APLIKASI LATIHAN BEBAN BERBASIS ANDROID UNTUK MENINGKATKAN AKTIVITAS FISIK.pdf', 'page': 0}, page_content='ASPEK USABILITY PADA PENGEMBANGAN APLIKASI LATIHAN BEBAN \\nBERBASIS ANDROID UNTUK MENINGKATKAN AKTIVITAS FISIK \\n \\nTUGAS AKHIR SKRIPSI \\n \\n \\nDiajukan kepada Fakultas Teknik Universitas Negeri Yogyakarta untuk \\nMemenuhi Sebagian Persyaratan Guna Memperoleh Gelar Sarjana Teknik Program \\nStudi Teknologi Informasi \\n \\nOleh: \\nAkmal Maulana Kismoyo \\nNIM 21537144061 \\n \\n \\n \\nPROGRAM STUDI TEKNOLOGI INFORMASI \\nFAKULTAS TEKNIK \\nUNIVERSITAS NEGERI YOGYAKARTA \\n2024 \\n'), Document(metadata={'source': 'ASPEK USABILITY PADA PENGEMBANGAN APLIKASI LATIHAN BEBAN BERBASIS ANDROID UNTUK MENINGKATKAN AKTIVITAS FISIK.pdf', 'page': 1}, page_content='DAFTAR ISI \\n \\nDAFTAR ISI ................................................................................................................. 2 \\nBAB I .......................................................................................................................... 4 \\nPENDAHULUAN ......................................................................................................... 4 \\nA. Latar Belakang ............................................................................................. 4 \\nB. Rumusan Masalah ....................................................................................... 6 \\nC. Tujuan Penelitian ......................................................................................... 6 \\nD. Manfaat Penelitian ...................................................................................... 7 \\nBAB II ......................................................................................................................... 8 \\nKAJIAN PUSTAKA ....................................................................................................... 8 \\nA. Latihan Beban ............................................................................................. 8 \\nB. Pengembangan Aplikasi Berbasis Android .................................................. 8 \\nC. Model Evaluasi ISO 25010 dan Usability ..................................................... 9 \\nD. Peran Usability dalam Aplikasi Latihan Beban .......................................... 10 \\nBAB III ...................................................................................................................... 11 \\nMETODE PENELITIAN .............................................................................................. 11 \\nA. Jenis Penelitian .......................................................................................... 11 \\nB. Subjek dan Objek Penelitian ..................................................................... 11 \\nC. Tempat dan Waktu Penelitian ................................................................... 12 '), Document(metadata={'source': 'ASPEK USABILITY PADA PENGEMBANGAN APLIKASI LATIHAN BEBAN BERBASIS ANDROID UNTUK MENINGKATKAN AKTIVITAS FISIK.pdf', 'page': 2}, page_content='D. Teknik Pengumpulan Data ......................................................................... 12 \\nE. Analisis Data .............................................................................................. 12 \\nBAB IV ..................................................................................................................... 14 \\nHASIL PENELITIAN ................................................................................................... 14 \\nA. Analisis Kebutuhan .................................................................................... 14 \\nB. Desain ........................................................................................................ 14 \\nC. Pengembangan .......................................................................................... 14 \\nD. Implementasi/Pengujian ........................................................................... 14 \\nE. Evaluasi ...................................................................................................... 14 \\nBAB V ...................................................................................................................... 15 \\nKESIMPULAN ........................................................................................................... 15 \\nDAFTAR PUSAKA...................................................................................................... 16 \\n \\n \\n \\n \\n \\n '), Document(metadata={'source': 'ASPEK USABILITY PADA PENGEMBANGAN APLIKASI LATIHAN BEBAN BERBASIS ANDROID UNTUK MENINGKATKAN AKTIVITAS FISIK.pdf', 'page': 3}, page_content='BAB I \\nPENDAHULUAN \\nA. Latar Belakang \\nAktivitas fisik memiliki peran penting dalam menjaga kesehatan dan \\nkebugaran tubuh. Salah satu bentuk aktivitas fisik yang cukup banyak \\ndigemari adalah latihan beban.  Latihan beban adalah latihan yang berfokus \\npada peningkatan kekuatan otot dan daya tahan tubuh. Latihan beban \\nmemberikan berbagai manfaat, baik secara fisik maupun mental, antara lain \\npeningkatan metabolisme, penguatan tulang, serta perbaikan postur tubuh. \\nNamun, meskipun manfaatnya besar, partisipasi masyarakat Indonesia dalam \\nlatihan beban masih tergolong rendah. Berdasarkan Laporan Nasional Sport \\nDevelopment Index  (SDI) 2021 yang diterbitkan oleh Kementerian Pemuda \\ndan Olahraga (Kemenpora), sekitar 76% masyarakat Indonesia berada dalam \\nkategori tidak bugar, dengan 53,63% di antaranya sangat tidak bugar  \\n(Mutohir et al., 2021) . Hal ini berkorelasi dengan rendahnya angka \\nmasyarakat yang aktif berolahraga, yaitu hanya 32,83%  (Mutohir et al., \\n2021). Hal tersebut membuat Masyarakat Indonesia ini memerlukan perhatian \\nkhusus terutama pada kondisi Kesehatan fisiknya. Kondisi ini juga \\nberkorelasi dengan indeks Kesehatan Masyarakat Indonesia yaitu sebesar \\n0,41, yang termasuk kategori rendah  (Mutohir et al., 2021) . Rendahnya \\naktivitas fisik di masyarakat ini berpotensi menyebabkan berbagai masalah \\nkesehatan, seperti obesitas dan risiko penyakit jantung. Di sisi lain, olahraga \\nrutin terbukti meningkatkan indeks kesehatan pada mereka yang aktif '), Document(metadata={'source': 'ASPEK USABILITY PADA PENGEMBANGAN APLIKASI LATIHAN BEBAN BERBASIS ANDROID UNTUK MENINGKATKAN AKTIVITAS FISIK.pdf', 'page': 4}, page_content='bergerak dibandingkan dengan yang tidak berolahraga. Mengingat situasi ini, \\ndiperlukan upaya untuk mendorong masyarakat agar lebih aktif dalam \\nmelakukan latihan fisik, khususnya latihan beban. \\n \\nDalam upaya mencapai hal ini, teknologi mobile, khususnya aplikasi \\nberbasis Android, muncul sebagai solusi efektif dan mudah dijangkau. \\nPenggunaan aplikasi berbasis Android untuk mendukung aktivitas fisik \\nmasyarakat dinilai efektif karena dapat memberikan akses cepat, panduan, \\nserta pengingat bagi pengguna agar tetap konsisten dalam melakukan rutinitas \\nlatihan mereka. Berdasarkan penelitian yang dilakukan oleh (Antoni & \\nSuharjana, 2019) , masyarakat Indonesia menunjukkan minat dan persepsi \\nyang positif terhadap aplikasi di kategori kesehatan dan kebugaran berbasis \\nAndroid. Aplikasi kebugaran yang didesain dengan baik memungkinkan \\npengguna untuk mendapatkan akses panduan latihan dengan mudah, \\nfleksibel, dan dapat diakses kapan saja. Namun, efektivitas aplikasi ini juga \\nsangat bergantung pada tingkat usability atau kemudahan penggunaannya. \\nUsability mencakup aspek -aspek seperti antarmuka yang intuitif, navigasi \\nyang mudah, serta tampilan yang menarik sehingga pengguna merasa nyaman \\ndan terdorong untuk menggunakan aplikasi secara berkelanjutan. Dengan \\nmenerapkan prinsip -prinsip usability, aplikasi diharapkan mampu \\nmeningkatkan motivasi pengguna dalam melakukan latihan beban secara \\nrutin. Oleh karena itu, penelitian ini berfokus pada pengembangan aplikasi '), Document(metadata={'source': 'ASPEK USABILITY PADA PENGEMBANGAN APLIKASI LATIHAN BEBAN BERBASIS ANDROID UNTUK MENINGKATKAN AKTIVITAS FISIK.pdf', 'page': 5}, page_content='latihan beban berbasis Android untuk meningkatkan aktivitas fisik \\nmasyarakat Indonesia dengan pendekatan usability. \\n \\nB. Rumusan Masalah \\nBerdasarkan latar belakang di atas, rumusan masalah dalam penelitian \\nini adalah sebagai berikut: \\n1. Bagaimana pengembangan aplikasi Android yang dapat mendukung \\naktivitas latihan beban masyarakat Indonesia? \\n2. Bagaimana aspek usability diterapkan dalam aplikasi untuk meningkatkan \\nkemudahan dan kenyamanan penggunaan? \\n3. Sejauh mana aplikasi yang dikembangkan dapat meningkatkan aktivitas \\nfisik pengguna melalui pendekatan usability? \\n \\nC. Tujuan Penelitian \\nBerdasarkan rumusan masalah diatas, maka tujuan dari pengembangan \\nini yaitu: \\n1. Mengembangkan aplikasi latihan beban berbasis Android yang \\nmendukung peningkatan aktivitas fisik masyarakat Indonesia. \\n2. Menerapkan prinsip usability dalam pengembangan aplikasi untuk \\nmeningkatkan pengalaman pengguna. \\n3. Mengevaluasi efektivitas aplikasi dalam meningkatkan aktivitas fisik \\nmasyarakat melalui peningkatan kemudahan penggunaan. \\n '), Document(metadata={'source': 'ASPEK USABILITY PADA PENGEMBANGAN APLIKASI LATIHAN BEBAN BERBASIS ANDROID UNTUK MENINGKATKAN AKTIVITAS FISIK.pdf', 'page': 6}, page_content='D. Manfaat Penelitian \\nManfaat dari penelitian ini sebagai berikut: \\n1. Menambah wawasan mengenai peran usability dalam pengembangan \\naplikasi kebugaran. \\n2. Memberikan alat yang memudahkan masyarakat dalam menjalani latihan \\nbeban secara teratur. \\n3. Mendukung peningkatan kesehatan masyarakat melalui peningkatan \\naktivitas fisik. \\n \\n \\n \\n \\n \\n \\n \\n \\n \\n \\n \\n '), Document(metadata={'source': 'ASPEK USABILITY PADA PENGEMBANGAN APLIKASI LATIHAN BEBAN BERBASIS ANDROID UNTUK MENINGKATKAN AKTIVITAS FISIK.pdf', 'page': 7}, page_content='BAB II \\nKAJIAN PUSTAKA \\nA. Latihan Beban \\nLatihan beban ( weight training ) adalah jenis latihan fisik yang \\nberfokus pada peningkatan kekuatan otot melalui penggunaan beban \\neksternal, seperti dumbbell, barbell, atau mesin latihan. Latihan ini tidak \\nhanya bertujuan untuk meningkatkan kekuatan otot, tetapi juga untuk \\nmemperbaiki daya tahan tubuh, meningkatkan metabolisme, menguatkan \\ntulang, serta memperbaiki postur tubuh. Menurut (Rahmansyah et al., \\n2022) dalam artikel yang diterbitkan di Jurnal Pengembangan Teknologi \\nInformasi dan Ilmu Komputer, latihan fisik seperti ini sangat penting \\nterutama untuk menjaga kebugaran tubuh selama masa pandemi, di mana \\nbanyak orang lebih banyak menghabiskan waktu di rumah. Latihan beban \\nyang terstruktur dan rutin dapat membantu meningkatkan kualitas hidup \\ndan kesehatan mental, terutama dalam menghadapi tantangan gaya hidup \\nsedentari yang meningkat. \\n \\nB. Pengembangan Aplikasi Berbasis Android \\nAplikasi berbasis Android adalah aplikasi yang dirancang untuk \\nberjalan pada perangkat yang menggunakan sistem operasi Android. \\nDalam pengembangan aplikasi Android, digunakan bahasa pemrograman \\nseperti Java atau Kotlin, dan Android Studio sebagai Integrated \\nDevelopment Environment  (IDE). Pengembangan aplikasi berbasis '), Document(metadata={'source': 'ASPEK USABILITY PADA PENGEMBANGAN APLIKASI LATIHAN BEBAN BERBASIS ANDROID UNTUK MENINGKATKAN AKTIVITAS FISIK.pdf', 'page': 8}, page_content='Android untuk latihan beban dapat menjadi alat bantu yang efektif untuk \\npengguna dalam menjalani gaya hidup sehat. Aplikasi ini memungkinkan \\npengguna untuk mengakses panduan latihan kapan saja dan di mana saja, \\nserta untuk memantau kemajuan mereka dalam berlatih. Salah satu contoh \\npengembangan aplikasi berbasis Android untuk latihan fisik adalah \\naplikasi Home Workout yang memungkinkan pengguna untuk mengikuti \\nrutinitas latihan tanpa harus pergi ke gym. Aplikasi ini memberikan \\nkemudahan dan fleksibilitas dalam latihan beban, yang sangat dibutuhkan \\noleh pengguna dengan berbagai tingkat kemampuan. \\n \\nC. Model Evaluasi ISO 25010 dan Usability \\nISO 25010 adalah standar internasional yang digunakan untuk menilai \\nkualitas perangkat lunak, termasuk aplikasi berbasis Android. Salah satu \\nparameter penting dalam standar ini adalah usability, yang mengukur \\nseberapa mudah dan efisien aplikasi digunakan oleh pengguna.  Dalam \\npengembangan aplikasi latihan beban berbasis Android, evaluasi aspek \\nusability sangat penting untuk memastikan aplikasi memberikan \\npengalaman pengguna yang baik dan membantu mereka dalam mencapai \\ntujuan kebugaran fisik mereka. Pengujian terhadap aspek -aspek ini dapat \\ndilakukan dengan menggunakan berbagai teknik, seperti uji coba \\npengguna ( user testing ) dan pengukuran kepuasan pengguna melalui \\nsurvei atau angket. \\n '), Document(metadata={'source': 'ASPEK USABILITY PADA PENGEMBANGAN APLIKASI LATIHAN BEBAN BERBASIS ANDROID UNTUK MENINGKATKAN AKTIVITAS FISIK.pdf', 'page': 9}, page_content='D. Peran Usability dalam Aplikasi Latihan Beban \\nUsability menjadi aspek yang sangat penting  dalam aplikasi latihan \\nbeban karena aplikasi tersebut harus mudah diakses, mudah dipahami, dan \\nmemberikan instruksi yang jelas mengenai cara melakukan latihan dengan \\nbenar. aplikasi yang mempunyai tingkat  usability tinggi dapat \\nmeningkatkan motivasi pengguna untuk tetap berlatih, mengurangi \\nfrustrasi, dan meningkatkan konsistensi dalam berlatih. Aplikasi yang baik \\nharus memudahkan pengguna dalam memilih latihan yang sesuai dengan \\nkebutuhan dan tujuan mereka, serta memberikan masukan terhadap \\npengguna yang berguna untuk meningkatkan performa latihan. \\n \\n \\n \\n \\n \\n \\n \\n \\n \\n '), Document(metadata={'source': 'ASPEK USABILITY PADA PENGEMBANGAN APLIKASI LATIHAN BEBAN BERBASIS ANDROID UNTUK MENINGKATKAN AKTIVITAS FISIK.pdf', 'page': 10}, page_content='BAB III \\nMETODE PENELITIAN \\nA. Jenis Penelitian \\nPenelitian ini merupakan penelitian pengembangan  yang \\nmenggunakan metode Agile sebagai kerangka kerja pengembangan . \\nMetode tersebut dipilih dikarenakan kemampuannya untuk beradaptasi \\ndengan perubahan terhadap keterlibatan pengguna secara berkelanjutan. \\nTahapan dalam metode Agile yang diterapkan meliputi: \\n1. Planning (Perencanaan) \\n2. Design (Desain) \\n3. Development (Pengembangan) \\n4. Testing (Pengujian) \\n5. Evaluation (Evaluasi) \\nB. Subjek dan Objek Penelitian \\nSubjek penelitian ini adalah individu yang aktif  maupun tidak aktif \\ndalam melakukan aktivitas fisik dan latihan beban, termasuk instruktur \\nkebugaran dan pengguna umum yang tertarik dalam meningkatkan \\naktivitas fisik melalui latihan beban. Objek penelitian adalah respon \\npengguna terhadap aplikasi latihan beban berbasis Android yang \\ndikembangkan, khususnya terkait aspek usability dari aplikasi tersebut. '), Document(metadata={'source': 'ASPEK USABILITY PADA PENGEMBANGAN APLIKASI LATIHAN BEBAN BERBASIS ANDROID UNTUK MENINGKATKAN AKTIVITAS FISIK.pdf', 'page': 11}, page_content='C. Tempat dan Waktu Penelitian \\nTeknik pengumpulan data dalam penelitian ini menggunakan studi \\nliteratur, wawancara, dan angket. Studi literatur dilakukan untuk \\nmemahami konsep -konsep dasar mengenai usability, pengembangan \\naplikasi berbasis Android, metode Agile, dan kebutuhan pengguna dalam \\nlatihan beban. \\nD. Teknik Pengumpulan Data \\nTeknik pengumpulan data dalam penelitian ini menggunakan studi \\nliteratur, wawancara, dan angket. Studi literatur dilakukan untuk \\nmemahami konsep -konsep dasar mengenai usability, pengembangan \\naplikasi berbasis Android, metode Agile, dan kebutuhan pengguna dalam \\nlatihan beban.  Wawancara dilakukan kepada instruktur kebugaran dan \\npengguna potensial untuk menganalisis kebutuhan dan mengidentifikasi \\nfitur-fitur yang diharapkan dalam aplikasi. Setelah pengembangan aplikasi, \\nangket disebarkan kepada pengguna untuk mengumpulkan respon mereka \\nterkait aspek usability aplikasi. Angket dirancang menggunakan skala \\nLikert untuk mengukur aspek usability aplikasi. \\n \\nE. Analisis Data \\nAnalisis data dalam penelitian ini menggunakan pendekatan kualitatif \\ndan kuantitatif. Pada analisis kualitatif studi literatur dianalisis untuk \\nmembangun landasan teori dan mendukung perancangan aplikasi.  Hasil \\nwawancara dianalisis untuk mengidentifikasi kebutuhan pengguna. Pada '), Document(metadata={'source': 'ASPEK USABILITY PADA PENGEMBANGAN APLIKASI LATIHAN BEBAN BERBASIS ANDROID UNTUK MENINGKATKAN AKTIVITAS FISIK.pdf', 'page': 12}, page_content='analisis kuantitatif data dari angket diolah untuk menghitung skor rata-rata \\ndan persentase tingkat usability aplikasi. Hasil analisis kuantitatif juga \\ndigunakan untuk menilai keberhasilan aplikasi dalam memenuhi aspek \\nusability dan memberikan evaluasi untuk perbaikan lebih lanjut. \\n \\n \\n \\n \\n \\n \\n \\n \\n \\n \\n \\n \\n \\n \\n '), Document(metadata={'source': 'ASPEK USABILITY PADA PENGEMBANGAN APLIKASI LATIHAN BEBAN BERBASIS ANDROID UNTUK MENINGKATKAN AKTIVITAS FISIK.pdf', 'page': 13}, page_content='BAB IV \\nHASIL PENELITIAN \\nA. Analisis Kebutuhan \\nB. Desain  \\nC. Pengembangan  \\nD. Implementasi/Pengujian \\nE. Evaluasi  \\n \\n \\n \\n \\n \\n \\n \\n \\n \\n \\n \\n '), Document(metadata={'source': 'ASPEK USABILITY PADA PENGEMBANGAN APLIKASI LATIHAN BEBAN BERBASIS ANDROID UNTUK MENINGKATKAN AKTIVITAS FISIK.pdf', 'page': 14}, page_content='BAB V \\nKESIMPULAN \\n \\n \\n \\n \\n \\n \\n \\n \\n \\n \\n \\n \\n \\n \\n '), Document(metadata={'source': 'ASPEK USABILITY PADA PENGEMBANGAN APLIKASI LATIHAN BEBAN BERBASIS ANDROID UNTUK MENINGKATKAN AKTIVITAS FISIK.pdf', 'page': 15}, page_content='DAFTAR PUSAKA \\nAntoni, M. S., & Suharjana, S. (2019). Aplikasi kebugaran dan kesehatan \\nberbasis android\\u202f: Bagaimana persepsi dan minat masyarakat\\u202f? Android \\napplication in sport and health\\u202f: How are society ’ s perception and \\ninterest\\u202f? 7(1), 34–42. \\nIismayanti, Yunitasari, E., & Krisnana, I. (2022). Efektifitas Aplikasi Mobile \\nHealth Yang Mendukung Kualitas Hidup ODHA. Jurnal Keperawatan , \\n14(September), 733–740. \\nKoloay, K., Sompie, S. R., & Paturusi, S. DE. (2020). Rancang Bangun Aplikasi \\nFitness Berbasis Android (Studi Kasus\\u202f: Popeye Gym Suwaan). E-Journal \\nTeknik Informatika , 1(2), 1 –10. \\nhttp://repo.unsrat.ac.id/2913/1/Jurnal_KlaudioKoloay_13021106159.pdf \\nMutohir, T. C., Lutan, R., Maksum, A., Kristiyanto, A., & Akbar, R. (2021). \\nLaporan Nasional Sport Development Index Tahun 2021. Kementerian \\nPemuda Dan Olahraga Republik Indonesia , 1 –126. \\nhttps://deputi3.kemenpora.go.id/dokumen/30/laporan-nasional-sport-\\ndevelopment-index-tahun-2021 \\nRahmansyah, I. R., Dewi, R. K., & Huda, F. Al. (2022). Pengembangan Aplikasi \\nLatihan Fisik untuk Menjaga Kebugaran Tubuh di Masa Pandemi berbasis \\nAndroid. … Teknologi Informasi Dan Ilmu … , 6(4), 1539 –1547. https://j -\\nptiik.ub.ac.id/index.php/j-ptiik/article/view/10863 \\n '), Document(metadata={'source': 'ASPEK USABILITY PADA PENGEMBANGAN APLIKASI LATIHAN BEBAN BERBASIS ANDROID UNTUK MENINGKATKAN AKTIVITAS FISIK.pdf', 'page': 16}, page_content=' ')]\n"
     ]
    }
   ],
   "source": [
    "from langchain_community.document_loaders import PyPDFLoader\n",
    "\n",
    "pdf_loader = PyPDFLoader('ASPEK USABILITY PADA PENGEMBANGAN APLIKASI LATIHAN BEBAN BERBASIS ANDROID UNTUK MENINGKATKAN AKTIVITAS FISIK.pdf')\n",
    "documents = pdf_loader.load()\n",
    "\n",
    "print(documents)"
   ]
  },
  {
   "cell_type": "code",
   "execution_count": 15,
   "metadata": {},
   "outputs": [
    {
     "name": "stdout",
     "output_type": "stream",
     "text": [
      "[Document(metadata={'source': 'ASPEK USABILITY PADA PENGEMBANGAN APLIKASI LATIHAN BEBAN BERBASIS ANDROID UNTUK MENINGKATKAN AKTIVITAS FISIK.pdf', 'page': 0}, page_content='ASPEK USABILITY PADA PENGEMBANGAN APLIKASI LATIHAN BEBAN \\nBERBASIS ANDROID UNTUK MENINGKATKAN AKTIVITAS FISIK \\n \\nTUGAS AKHIR SKRIPSI \\n \\n \\nDiajukan kepada Fakultas Teknik Universitas Negeri Yogyakarta untuk \\nMemenuhi Sebagian Persyaratan Guna Memperoleh Gelar Sarjana Teknik Program \\nStudi Teknologi Informasi \\n \\nOleh: \\nAkmal Maulana Kismoyo \\nNIM 21537144061 \\n \\n \\n \\nPROGRAM STUDI TEKNOLOGI INFORMASI \\nFAKULTAS TEKNIK \\nUNIVERSITAS NEGERI YOGYAKARTA \\n2024'), Document(metadata={'source': 'ASPEK USABILITY PADA PENGEMBANGAN APLIKASI LATIHAN BEBAN BERBASIS ANDROID UNTUK MENINGKATKAN AKTIVITAS FISIK.pdf', 'page': 1}, page_content='DAFTAR ISI \\n \\nDAFTAR ISI ................................................................................................................. 2 \\nBAB I .......................................................................................................................... 4 \\nPENDAHULUAN ......................................................................................................... 4 \\nA. Latar Belakang ............................................................................................. 4 \\nB. Rumusan Masalah ....................................................................................... 6 \\nC. Tujuan Penelitian ......................................................................................... 6 \\nD. Manfaat Penelitian ...................................................................................... 7 \\nBAB II ......................................................................................................................... 8'), Document(metadata={'source': 'ASPEK USABILITY PADA PENGEMBANGAN APLIKASI LATIHAN BEBAN BERBASIS ANDROID UNTUK MENINGKATKAN AKTIVITAS FISIK.pdf', 'page': 1}, page_content='BAB II ......................................................................................................................... 8 \\nKAJIAN PUSTAKA ....................................................................................................... 8 \\nA. Latihan Beban ............................................................................................. 8 \\nB. Pengembangan Aplikasi Berbasis Android .................................................. 8 \\nC. Model Evaluasi ISO 25010 dan Usability ..................................................... 9 \\nD. Peran Usability dalam Aplikasi Latihan Beban .......................................... 10 \\nBAB III ...................................................................................................................... 11 \\nMETODE PENELITIAN .............................................................................................. 11'), Document(metadata={'source': 'ASPEK USABILITY PADA PENGEMBANGAN APLIKASI LATIHAN BEBAN BERBASIS ANDROID UNTUK MENINGKATKAN AKTIVITAS FISIK.pdf', 'page': 1}, page_content='METODE PENELITIAN .............................................................................................. 11 \\nA. Jenis Penelitian .......................................................................................... 11 \\nB. Subjek dan Objek Penelitian ..................................................................... 11 \\nC. Tempat dan Waktu Penelitian ................................................................... 12'), Document(metadata={'source': 'ASPEK USABILITY PADA PENGEMBANGAN APLIKASI LATIHAN BEBAN BERBASIS ANDROID UNTUK MENINGKATKAN AKTIVITAS FISIK.pdf', 'page': 2}, page_content='D. Teknik Pengumpulan Data ......................................................................... 12 \\nE. Analisis Data .............................................................................................. 12 \\nBAB IV ..................................................................................................................... 14 \\nHASIL PENELITIAN ................................................................................................... 14 \\nA. Analisis Kebutuhan .................................................................................... 14 \\nB. Desain ........................................................................................................ 14 \\nC. Pengembangan .......................................................................................... 14 \\nD. Implementasi/Pengujian ........................................................................... 14'), Document(metadata={'source': 'ASPEK USABILITY PADA PENGEMBANGAN APLIKASI LATIHAN BEBAN BERBASIS ANDROID UNTUK MENINGKATKAN AKTIVITAS FISIK.pdf', 'page': 2}, page_content='D. Implementasi/Pengujian ........................................................................... 14 \\nE. Evaluasi ...................................................................................................... 14 \\nBAB V ...................................................................................................................... 15 \\nKESIMPULAN ........................................................................................................... 15 \\nDAFTAR PUSAKA...................................................................................................... 16'), Document(metadata={'source': 'ASPEK USABILITY PADA PENGEMBANGAN APLIKASI LATIHAN BEBAN BERBASIS ANDROID UNTUK MENINGKATKAN AKTIVITAS FISIK.pdf', 'page': 3}, page_content='BAB I \\nPENDAHULUAN \\nA. Latar Belakang \\nAktivitas fisik memiliki peran penting dalam menjaga kesehatan dan \\nkebugaran tubuh. Salah satu bentuk aktivitas fisik yang cukup banyak \\ndigemari adalah latihan beban.  Latihan beban adalah latihan yang berfokus \\npada peningkatan kekuatan otot dan daya tahan tubuh. Latihan beban \\nmemberikan berbagai manfaat, baik secara fisik maupun mental, antara lain \\npeningkatan metabolisme, penguatan tulang, serta perbaikan postur tubuh. \\nNamun, meskipun manfaatnya besar, partisipasi masyarakat Indonesia dalam \\nlatihan beban masih tergolong rendah. Berdasarkan Laporan Nasional Sport \\nDevelopment Index  (SDI) 2021 yang diterbitkan oleh Kementerian Pemuda \\ndan Olahraga (Kemenpora), sekitar 76% masyarakat Indonesia berada dalam \\nkategori tidak bugar, dengan 53,63% di antaranya sangat tidak bugar  \\n(Mutohir et al., 2021) . Hal ini berkorelasi dengan rendahnya angka \\nmasyarakat yang aktif berolahraga, yaitu hanya 32,83%  (Mutohir et al.,'), Document(metadata={'source': 'ASPEK USABILITY PADA PENGEMBANGAN APLIKASI LATIHAN BEBAN BERBASIS ANDROID UNTUK MENINGKATKAN AKTIVITAS FISIK.pdf', 'page': 3}, page_content='(Mutohir et al., 2021) . Hal ini berkorelasi dengan rendahnya angka \\nmasyarakat yang aktif berolahraga, yaitu hanya 32,83%  (Mutohir et al., \\n2021). Hal tersebut membuat Masyarakat Indonesia ini memerlukan perhatian \\nkhusus terutama pada kondisi Kesehatan fisiknya. Kondisi ini juga \\nberkorelasi dengan indeks Kesehatan Masyarakat Indonesia yaitu sebesar \\n0,41, yang termasuk kategori rendah  (Mutohir et al., 2021) . Rendahnya \\naktivitas fisik di masyarakat ini berpotensi menyebabkan berbagai masalah \\nkesehatan, seperti obesitas dan risiko penyakit jantung. Di sisi lain, olahraga \\nrutin terbukti meningkatkan indeks kesehatan pada mereka yang aktif'), Document(metadata={'source': 'ASPEK USABILITY PADA PENGEMBANGAN APLIKASI LATIHAN BEBAN BERBASIS ANDROID UNTUK MENINGKATKAN AKTIVITAS FISIK.pdf', 'page': 4}, page_content='bergerak dibandingkan dengan yang tidak berolahraga. Mengingat situasi ini, \\ndiperlukan upaya untuk mendorong masyarakat agar lebih aktif dalam \\nmelakukan latihan fisik, khususnya latihan beban. \\n \\nDalam upaya mencapai hal ini, teknologi mobile, khususnya aplikasi \\nberbasis Android, muncul sebagai solusi efektif dan mudah dijangkau. \\nPenggunaan aplikasi berbasis Android untuk mendukung aktivitas fisik \\nmasyarakat dinilai efektif karena dapat memberikan akses cepat, panduan, \\nserta pengingat bagi pengguna agar tetap konsisten dalam melakukan rutinitas \\nlatihan mereka. Berdasarkan penelitian yang dilakukan oleh (Antoni & \\nSuharjana, 2019) , masyarakat Indonesia menunjukkan minat dan persepsi \\nyang positif terhadap aplikasi di kategori kesehatan dan kebugaran berbasis \\nAndroid. Aplikasi kebugaran yang didesain dengan baik memungkinkan \\npengguna untuk mendapatkan akses panduan latihan dengan mudah, \\nfleksibel, dan dapat diakses kapan saja. Namun, efektivitas aplikasi ini juga'), Document(metadata={'source': 'ASPEK USABILITY PADA PENGEMBANGAN APLIKASI LATIHAN BEBAN BERBASIS ANDROID UNTUK MENINGKATKAN AKTIVITAS FISIK.pdf', 'page': 4}, page_content='pengguna untuk mendapatkan akses panduan latihan dengan mudah, \\nfleksibel, dan dapat diakses kapan saja. Namun, efektivitas aplikasi ini juga \\nsangat bergantung pada tingkat usability atau kemudahan penggunaannya. \\nUsability mencakup aspek -aspek seperti antarmuka yang intuitif, navigasi \\nyang mudah, serta tampilan yang menarik sehingga pengguna merasa nyaman \\ndan terdorong untuk menggunakan aplikasi secara berkelanjutan. Dengan \\nmenerapkan prinsip -prinsip usability, aplikasi diharapkan mampu \\nmeningkatkan motivasi pengguna dalam melakukan latihan beban secara \\nrutin. Oleh karena itu, penelitian ini berfokus pada pengembangan aplikasi'), Document(metadata={'source': 'ASPEK USABILITY PADA PENGEMBANGAN APLIKASI LATIHAN BEBAN BERBASIS ANDROID UNTUK MENINGKATKAN AKTIVITAS FISIK.pdf', 'page': 5}, page_content='latihan beban berbasis Android untuk meningkatkan aktivitas fisik \\nmasyarakat Indonesia dengan pendekatan usability. \\n \\nB. Rumusan Masalah \\nBerdasarkan latar belakang di atas, rumusan masalah dalam penelitian \\nini adalah sebagai berikut: \\n1. Bagaimana pengembangan aplikasi Android yang dapat mendukung \\naktivitas latihan beban masyarakat Indonesia? \\n2. Bagaimana aspek usability diterapkan dalam aplikasi untuk meningkatkan \\nkemudahan dan kenyamanan penggunaan? \\n3. Sejauh mana aplikasi yang dikembangkan dapat meningkatkan aktivitas \\nfisik pengguna melalui pendekatan usability? \\n \\nC. Tujuan Penelitian \\nBerdasarkan rumusan masalah diatas, maka tujuan dari pengembangan \\nini yaitu: \\n1. Mengembangkan aplikasi latihan beban berbasis Android yang \\nmendukung peningkatan aktivitas fisik masyarakat Indonesia. \\n2. Menerapkan prinsip usability dalam pengembangan aplikasi untuk \\nmeningkatkan pengalaman pengguna. \\n3. Mengevaluasi efektivitas aplikasi dalam meningkatkan aktivitas fisik'), Document(metadata={'source': 'ASPEK USABILITY PADA PENGEMBANGAN APLIKASI LATIHAN BEBAN BERBASIS ANDROID UNTUK MENINGKATKAN AKTIVITAS FISIK.pdf', 'page': 5}, page_content='2. Menerapkan prinsip usability dalam pengembangan aplikasi untuk \\nmeningkatkan pengalaman pengguna. \\n3. Mengevaluasi efektivitas aplikasi dalam meningkatkan aktivitas fisik \\nmasyarakat melalui peningkatan kemudahan penggunaan.'), Document(metadata={'source': 'ASPEK USABILITY PADA PENGEMBANGAN APLIKASI LATIHAN BEBAN BERBASIS ANDROID UNTUK MENINGKATKAN AKTIVITAS FISIK.pdf', 'page': 6}, page_content='D. Manfaat Penelitian \\nManfaat dari penelitian ini sebagai berikut: \\n1. Menambah wawasan mengenai peran usability dalam pengembangan \\naplikasi kebugaran. \\n2. Memberikan alat yang memudahkan masyarakat dalam menjalani latihan \\nbeban secara teratur. \\n3. Mendukung peningkatan kesehatan masyarakat melalui peningkatan \\naktivitas fisik.'), Document(metadata={'source': 'ASPEK USABILITY PADA PENGEMBANGAN APLIKASI LATIHAN BEBAN BERBASIS ANDROID UNTUK MENINGKATKAN AKTIVITAS FISIK.pdf', 'page': 7}, page_content='BAB II \\nKAJIAN PUSTAKA \\nA. Latihan Beban \\nLatihan beban ( weight training ) adalah jenis latihan fisik yang \\nberfokus pada peningkatan kekuatan otot melalui penggunaan beban \\neksternal, seperti dumbbell, barbell, atau mesin latihan. Latihan ini tidak \\nhanya bertujuan untuk meningkatkan kekuatan otot, tetapi juga untuk \\nmemperbaiki daya tahan tubuh, meningkatkan metabolisme, menguatkan \\ntulang, serta memperbaiki postur tubuh. Menurut (Rahmansyah et al., \\n2022) dalam artikel yang diterbitkan di Jurnal Pengembangan Teknologi \\nInformasi dan Ilmu Komputer, latihan fisik seperti ini sangat penting \\nterutama untuk menjaga kebugaran tubuh selama masa pandemi, di mana \\nbanyak orang lebih banyak menghabiskan waktu di rumah. Latihan beban \\nyang terstruktur dan rutin dapat membantu meningkatkan kualitas hidup \\ndan kesehatan mental, terutama dalam menghadapi tantangan gaya hidup \\nsedentari yang meningkat. \\n \\nB. Pengembangan Aplikasi Berbasis Android'), Document(metadata={'source': 'ASPEK USABILITY PADA PENGEMBANGAN APLIKASI LATIHAN BEBAN BERBASIS ANDROID UNTUK MENINGKATKAN AKTIVITAS FISIK.pdf', 'page': 7}, page_content='dan kesehatan mental, terutama dalam menghadapi tantangan gaya hidup \\nsedentari yang meningkat. \\n \\nB. Pengembangan Aplikasi Berbasis Android \\nAplikasi berbasis Android adalah aplikasi yang dirancang untuk \\nberjalan pada perangkat yang menggunakan sistem operasi Android. \\nDalam pengembangan aplikasi Android, digunakan bahasa pemrograman \\nseperti Java atau Kotlin, dan Android Studio sebagai Integrated \\nDevelopment Environment  (IDE). Pengembangan aplikasi berbasis'), Document(metadata={'source': 'ASPEK USABILITY PADA PENGEMBANGAN APLIKASI LATIHAN BEBAN BERBASIS ANDROID UNTUK MENINGKATKAN AKTIVITAS FISIK.pdf', 'page': 8}, page_content='Android untuk latihan beban dapat menjadi alat bantu yang efektif untuk \\npengguna dalam menjalani gaya hidup sehat. Aplikasi ini memungkinkan \\npengguna untuk mengakses panduan latihan kapan saja dan di mana saja, \\nserta untuk memantau kemajuan mereka dalam berlatih. Salah satu contoh \\npengembangan aplikasi berbasis Android untuk latihan fisik adalah \\naplikasi Home Workout yang memungkinkan pengguna untuk mengikuti \\nrutinitas latihan tanpa harus pergi ke gym. Aplikasi ini memberikan \\nkemudahan dan fleksibilitas dalam latihan beban, yang sangat dibutuhkan \\noleh pengguna dengan berbagai tingkat kemampuan. \\n \\nC. Model Evaluasi ISO 25010 dan Usability \\nISO 25010 adalah standar internasional yang digunakan untuk menilai \\nkualitas perangkat lunak, termasuk aplikasi berbasis Android. Salah satu \\nparameter penting dalam standar ini adalah usability, yang mengukur \\nseberapa mudah dan efisien aplikasi digunakan oleh pengguna.  Dalam'), Document(metadata={'source': 'ASPEK USABILITY PADA PENGEMBANGAN APLIKASI LATIHAN BEBAN BERBASIS ANDROID UNTUK MENINGKATKAN AKTIVITAS FISIK.pdf', 'page': 8}, page_content='parameter penting dalam standar ini adalah usability, yang mengukur \\nseberapa mudah dan efisien aplikasi digunakan oleh pengguna.  Dalam \\npengembangan aplikasi latihan beban berbasis Android, evaluasi aspek \\nusability sangat penting untuk memastikan aplikasi memberikan \\npengalaman pengguna yang baik dan membantu mereka dalam mencapai \\ntujuan kebugaran fisik mereka. Pengujian terhadap aspek -aspek ini dapat \\ndilakukan dengan menggunakan berbagai teknik, seperti uji coba \\npengguna ( user testing ) dan pengukuran kepuasan pengguna melalui \\nsurvei atau angket.'), Document(metadata={'source': 'ASPEK USABILITY PADA PENGEMBANGAN APLIKASI LATIHAN BEBAN BERBASIS ANDROID UNTUK MENINGKATKAN AKTIVITAS FISIK.pdf', 'page': 9}, page_content='D. Peran Usability dalam Aplikasi Latihan Beban \\nUsability menjadi aspek yang sangat penting  dalam aplikasi latihan \\nbeban karena aplikasi tersebut harus mudah diakses, mudah dipahami, dan \\nmemberikan instruksi yang jelas mengenai cara melakukan latihan dengan \\nbenar. aplikasi yang mempunyai tingkat  usability tinggi dapat \\nmeningkatkan motivasi pengguna untuk tetap berlatih, mengurangi \\nfrustrasi, dan meningkatkan konsistensi dalam berlatih. Aplikasi yang baik \\nharus memudahkan pengguna dalam memilih latihan yang sesuai dengan \\nkebutuhan dan tujuan mereka, serta memberikan masukan terhadap \\npengguna yang berguna untuk meningkatkan performa latihan.'), Document(metadata={'source': 'ASPEK USABILITY PADA PENGEMBANGAN APLIKASI LATIHAN BEBAN BERBASIS ANDROID UNTUK MENINGKATKAN AKTIVITAS FISIK.pdf', 'page': 10}, page_content='BAB III \\nMETODE PENELITIAN \\nA. Jenis Penelitian \\nPenelitian ini merupakan penelitian pengembangan  yang \\nmenggunakan metode Agile sebagai kerangka kerja pengembangan . \\nMetode tersebut dipilih dikarenakan kemampuannya untuk beradaptasi \\ndengan perubahan terhadap keterlibatan pengguna secara berkelanjutan. \\nTahapan dalam metode Agile yang diterapkan meliputi: \\n1. Planning (Perencanaan) \\n2. Design (Desain) \\n3. Development (Pengembangan) \\n4. Testing (Pengujian) \\n5. Evaluation (Evaluasi) \\nB. Subjek dan Objek Penelitian \\nSubjek penelitian ini adalah individu yang aktif  maupun tidak aktif \\ndalam melakukan aktivitas fisik dan latihan beban, termasuk instruktur \\nkebugaran dan pengguna umum yang tertarik dalam meningkatkan \\naktivitas fisik melalui latihan beban. Objek penelitian adalah respon \\npengguna terhadap aplikasi latihan beban berbasis Android yang \\ndikembangkan, khususnya terkait aspek usability dari aplikasi tersebut.'), Document(metadata={'source': 'ASPEK USABILITY PADA PENGEMBANGAN APLIKASI LATIHAN BEBAN BERBASIS ANDROID UNTUK MENINGKATKAN AKTIVITAS FISIK.pdf', 'page': 11}, page_content='C. Tempat dan Waktu Penelitian \\nTeknik pengumpulan data dalam penelitian ini menggunakan studi \\nliteratur, wawancara, dan angket. Studi literatur dilakukan untuk \\nmemahami konsep -konsep dasar mengenai usability, pengembangan \\naplikasi berbasis Android, metode Agile, dan kebutuhan pengguna dalam \\nlatihan beban. \\nD. Teknik Pengumpulan Data \\nTeknik pengumpulan data dalam penelitian ini menggunakan studi \\nliteratur, wawancara, dan angket. Studi literatur dilakukan untuk \\nmemahami konsep -konsep dasar mengenai usability, pengembangan \\naplikasi berbasis Android, metode Agile, dan kebutuhan pengguna dalam \\nlatihan beban.  Wawancara dilakukan kepada instruktur kebugaran dan \\npengguna potensial untuk menganalisis kebutuhan dan mengidentifikasi \\nfitur-fitur yang diharapkan dalam aplikasi. Setelah pengembangan aplikasi, \\nangket disebarkan kepada pengguna untuk mengumpulkan respon mereka \\nterkait aspek usability aplikasi. Angket dirancang menggunakan skala'), Document(metadata={'source': 'ASPEK USABILITY PADA PENGEMBANGAN APLIKASI LATIHAN BEBAN BERBASIS ANDROID UNTUK MENINGKATKAN AKTIVITAS FISIK.pdf', 'page': 11}, page_content='angket disebarkan kepada pengguna untuk mengumpulkan respon mereka \\nterkait aspek usability aplikasi. Angket dirancang menggunakan skala \\nLikert untuk mengukur aspek usability aplikasi. \\n \\nE. Analisis Data \\nAnalisis data dalam penelitian ini menggunakan pendekatan kualitatif \\ndan kuantitatif. Pada analisis kualitatif studi literatur dianalisis untuk \\nmembangun landasan teori dan mendukung perancangan aplikasi.  Hasil \\nwawancara dianalisis untuk mengidentifikasi kebutuhan pengguna. Pada'), Document(metadata={'source': 'ASPEK USABILITY PADA PENGEMBANGAN APLIKASI LATIHAN BEBAN BERBASIS ANDROID UNTUK MENINGKATKAN AKTIVITAS FISIK.pdf', 'page': 12}, page_content='analisis kuantitatif data dari angket diolah untuk menghitung skor rata-rata \\ndan persentase tingkat usability aplikasi. Hasil analisis kuantitatif juga \\ndigunakan untuk menilai keberhasilan aplikasi dalam memenuhi aspek \\nusability dan memberikan evaluasi untuk perbaikan lebih lanjut.'), Document(metadata={'source': 'ASPEK USABILITY PADA PENGEMBANGAN APLIKASI LATIHAN BEBAN BERBASIS ANDROID UNTUK MENINGKATKAN AKTIVITAS FISIK.pdf', 'page': 13}, page_content='BAB IV \\nHASIL PENELITIAN \\nA. Analisis Kebutuhan \\nB. Desain  \\nC. Pengembangan  \\nD. Implementasi/Pengujian \\nE. Evaluasi'), Document(metadata={'source': 'ASPEK USABILITY PADA PENGEMBANGAN APLIKASI LATIHAN BEBAN BERBASIS ANDROID UNTUK MENINGKATKAN AKTIVITAS FISIK.pdf', 'page': 14}, page_content='BAB V \\nKESIMPULAN'), Document(metadata={'source': 'ASPEK USABILITY PADA PENGEMBANGAN APLIKASI LATIHAN BEBAN BERBASIS ANDROID UNTUK MENINGKATKAN AKTIVITAS FISIK.pdf', 'page': 15}, page_content='DAFTAR PUSAKA \\nAntoni, M. S., & Suharjana, S. (2019). Aplikasi kebugaran dan kesehatan \\nberbasis android\\u202f: Bagaimana persepsi dan minat masyarakat\\u202f? Android \\napplication in sport and health\\u202f: How are society ’ s perception and \\ninterest\\u202f? 7(1), 34–42. \\nIismayanti, Yunitasari, E., & Krisnana, I. (2022). Efektifitas Aplikasi Mobile \\nHealth Yang Mendukung Kualitas Hidup ODHA. Jurnal Keperawatan , \\n14(September), 733–740. \\nKoloay, K., Sompie, S. R., & Paturusi, S. DE. (2020). Rancang Bangun Aplikasi \\nFitness Berbasis Android (Studi Kasus\\u202f: Popeye Gym Suwaan). E-Journal \\nTeknik Informatika , 1(2), 1 –10. \\nhttp://repo.unsrat.ac.id/2913/1/Jurnal_KlaudioKoloay_13021106159.pdf \\nMutohir, T. C., Lutan, R., Maksum, A., Kristiyanto, A., & Akbar, R. (2021). \\nLaporan Nasional Sport Development Index Tahun 2021. Kementerian \\nPemuda Dan Olahraga Republik Indonesia , 1 –126. \\nhttps://deputi3.kemenpora.go.id/dokumen/30/laporan-nasional-sport-\\ndevelopment-index-tahun-2021'), Document(metadata={'source': 'ASPEK USABILITY PADA PENGEMBANGAN APLIKASI LATIHAN BEBAN BERBASIS ANDROID UNTUK MENINGKATKAN AKTIVITAS FISIK.pdf', 'page': 15}, page_content='Pemuda Dan Olahraga Republik Indonesia , 1 –126. \\nhttps://deputi3.kemenpora.go.id/dokumen/30/laporan-nasional-sport-\\ndevelopment-index-tahun-2021 \\nRahmansyah, I. R., Dewi, R. K., & Huda, F. Al. (2022). Pengembangan Aplikasi \\nLatihan Fisik untuk Menjaga Kebugaran Tubuh di Masa Pandemi berbasis \\nAndroid. … Teknologi Informasi Dan Ilmu … , 6(4), 1539 –1547. https://j -\\nptiik.ub.ac.id/index.php/j-ptiik/article/view/10863')]\n",
      "[452, 976, 904, 438, 916, 595, 973, 652, 986, 643, 982, 227, 332, 950, 466, 935, 562, 658, 932, 959, 490, 285, 117, 17, 966, 420]\n"
     ]
    }
   ],
   "source": [
    "from langchain_text_splitters import RecursiveCharacterTextSplitter\n",
    "\n",
    "splitter = RecursiveCharacterTextSplitter(chunk_size=1000, chunk_overlap=200)\n",
    "chunks = splitter.split_documents(documents)\n",
    "\n",
    "print(chunks)\n",
    "print([len(chunk.page_content) for chunk in chunks])"
   ]
  },
  {
   "cell_type": "code",
   "execution_count": 31,
   "metadata": {},
   "outputs": [
    {
     "data": {
      "application/vnd.jupyter.widget-view+json": {
       "model_id": "71393a54af5b4ecda40f8fc38990b21e",
       "version_major": 2,
       "version_minor": 0
      },
      "text/plain": [
       "config.json:   0%|          | 0.00/731 [00:00<?, ?B/s]"
      ]
     },
     "metadata": {},
     "output_type": "display_data"
    },
    {
     "name": "stderr",
     "output_type": "stream",
     "text": [
      "c:\\Users\\akmal\\anaconda3\\envs\\jcopdl\\Lib\\site-packages\\huggingface_hub\\file_download.py:159: UserWarning: `huggingface_hub` cache-system uses symlinks by default to efficiently store duplicated files but your machine does not support them in C:\\Users\\akmal\\.cache\\huggingface\\hub\\models--Rifky--Indobert-QA. Caching files will still work but in a degraded version that might require more space on your disk. This warning can be disabled by setting the `HF_HUB_DISABLE_SYMLINKS_WARNING` environment variable. For more details, see https://huggingface.co/docs/huggingface_hub/how-to-cache#limitations.\n",
      "To support symlinks on Windows, you either need to activate Developer Mode or to run Python as an administrator. In order to see activate developer mode, see this article: https://docs.microsoft.com/en-us/windows/apps/get-started/enable-your-device-for-development\n",
      "  warnings.warn(message)\n"
     ]
    },
    {
     "data": {
      "application/vnd.jupyter.widget-view+json": {
       "model_id": "177fbbcdc211436cb742de77ada253dd",
       "version_major": 2,
       "version_minor": 0
      },
      "text/plain": [
       "model.safetensors:   0%|          | 0.00/440M [00:00<?, ?B/s]"
      ]
     },
     "metadata": {},
     "output_type": "display_data"
    },
    {
     "data": {
      "application/vnd.jupyter.widget-view+json": {
       "model_id": "761cfc1fd17e4b23960e86ea64d1c9a2",
       "version_major": 2,
       "version_minor": 0
      },
      "text/plain": [
       "tokenizer_config.json:   0%|          | 0.00/532 [00:00<?, ?B/s]"
      ]
     },
     "metadata": {},
     "output_type": "display_data"
    },
    {
     "data": {
      "application/vnd.jupyter.widget-view+json": {
       "model_id": "de08e655ae6b4ff98a52c42e52d18e9e",
       "version_major": 2,
       "version_minor": 0
      },
      "text/plain": [
       "vocab.txt:   0%|          | 0.00/234k [00:00<?, ?B/s]"
      ]
     },
     "metadata": {},
     "output_type": "display_data"
    },
    {
     "data": {
      "application/vnd.jupyter.widget-view+json": {
       "model_id": "d7bed51610904c4fb5a642d346c1d8b2",
       "version_major": 2,
       "version_minor": 0
      },
      "text/plain": [
       "tokenizer.json:   0%|          | 0.00/480k [00:00<?, ?B/s]"
      ]
     },
     "metadata": {},
     "output_type": "display_data"
    },
    {
     "data": {
      "application/vnd.jupyter.widget-view+json": {
       "model_id": "3a8167d5853a4bdc830efc926c692ea9",
       "version_major": 2,
       "version_minor": 0
      },
      "text/plain": [
       "special_tokens_map.json:   0%|          | 0.00/112 [00:00<?, ?B/s]"
      ]
     },
     "metadata": {},
     "output_type": "display_data"
    },
    {
     "name": "stderr",
     "output_type": "stream",
     "text": [
      "No sentence-transformers model found with name Rifky/Indobert-QA. Creating a new one with mean pooling.\n",
      "Some weights of BertModel were not initialized from the model checkpoint at Rifky/Indobert-QA and are newly initialized: ['bert.pooler.dense.bias', 'bert.pooler.dense.weight']\n",
      "You should probably TRAIN this model on a down-stream task to be able to use it for predictions and inference.\n"
     ]
    },
    {
     "name": "stdout",
     "output_type": "stream",
     "text": [
      "{'score': 0.2843945622444153, 'start': 67, 'end': 74, 'answer': 'ANDROID'}\n"
     ]
    }
   ],
   "source": [
    "from transformers import pipeline\n",
    "from langchain_text_splitters import RecursiveCharacterTextSplitter\n",
    "from langchain.vectorstores import Chroma\n",
    "from langchain.chains import RetrievalQA\n",
    "from langchain_community.embeddings import HuggingFaceEmbeddings\n",
    "\n",
    "# Pilih model Hugging Face yang ingin digunakan\n",
    "model_name = \"Rifky/Indobert-QA\"  # Model bahasa Indonesia yang populer\n",
    "\n",
    "# Inisialisasi pipeline Hugging Face\n",
    "qa_pipeline = pipeline(\"question-answering\", model=model_name)\n",
    "\n",
    "# Inisialisasi pemecah teks untuk memecah dokumen PDF menjadi bagian lebih kecil\n",
    "text_splitter = RecursiveCharacterTextSplitter(chunk_size=1000, chunk_overlap=200)\n",
    "\n",
    "# Bungkus pdf_text menjadi objek Document\n",
    "\n",
    "\n",
    "# Memecah teks PDF\n",
    "splits = text_splitter.split_documents(documents)\n",
    "\n",
    "model = HuggingFaceEmbeddings(model_name=model_name)\n",
    "\n",
    "# Membuat vectorstore menggunakan Chroma dan embeddings dari Hugging Face\n",
    "vectorstore = Chroma.from_documents(\n",
    "    documents=splits,\n",
    "    embedding=model\n",
    ")\n",
    "\n",
    "# Mengatur vectorstore sebagai retriever\n",
    "retriever = vectorstore.as_retriever()\n",
    "\n",
    "# Fungsi untuk menggunakan model Hugging Face untuk menjawab pertanyaan berdasarkan konteks yang diambil\n",
    "def generate_answer(question, context):\n",
    "    inputs = {\n",
    "        \"question\": question,\n",
    "        \"context\": context\n",
    "    }\n",
    "    result = qa_pipeline(inputs)\n",
    "    return result\n",
    "\n",
    "# Fungsi untuk menggabungkan RAG (Retrieval-Augmented Generation)\n",
    "def rag_chain(query):\n",
    "    # Ambil konteks dari retriever\n",
    "    context = retriever.get_relevant_documents(query)\n",
    "    \n",
    "    # Ambil teks dari konteks yang diambil (hanya ambil bagian pertama untuk simplicity)\n",
    "    context_text = \" \".join([doc.page_content for doc in context[:1]])  # Ambil konteks pertama\n",
    "    \n",
    "    # Generate jawaban menggunakan model Hugging Face\n",
    "    answer = generate_answer(query, context_text)\n",
    "    return answer\n",
    "\n",
    "# Coba untuk query\n",
    "query = \"Salah satu bentuk aktivitas fisik yang cukup banyak digemari adalah?\"\n",
    "answer = rag_chain(query)\n",
    "print(answer)\n"
   ]
  },
  {
   "cell_type": "code",
   "execution_count": 33,
   "metadata": {},
   "outputs": [
    {
     "name": "stdout",
     "output_type": "stream",
     "text": [
      "{'score': 0.12876243889331818, 'start': 43, 'end': 74, 'answer': 'LATIHAN BEBAN \\nBERBASIS ANDROID'}\n"
     ]
    }
   ],
   "source": [
    "# Coba untuk query\n",
    "query = \"aktivitas fisik yang cukup banyak digemari adalah?\"\n",
    "answer = rag_chain(query)\n",
    "print(answer)"
   ]
  },
  {
   "cell_type": "code",
   "execution_count": 36,
   "metadata": {},
   "outputs": [
    {
     "name": "stderr",
     "output_type": "stream",
     "text": [
      "No sentence-transformers model found with name Rifky/Indobert-QA. Creating a new one with mean pooling.\n",
      "Some weights of BertModel were not initialized from the model checkpoint at Rifky/Indobert-QA and are newly initialized: ['bert.pooler.dense.bias', 'bert.pooler.dense.weight']\n",
      "You should probably TRAIN this model on a down-stream task to be able to use it for predictions and inference.\n"
     ]
    },
    {
     "name": "stdout",
     "output_type": "stream",
     "text": [
      "{'score': 0.2716924846172333, 'start': 27, 'end': 40, 'answer': 'latihan beban'}\n"
     ]
    }
   ],
   "source": [
    "from transformers import pipeline\n",
    "from langchain_text_splitters import RecursiveCharacterTextSplitter\n",
    "from langchain.vectorstores import Chroma\n",
    "from langchain.chains import RetrievalQA\n",
    "from langchain_community.embeddings import HuggingFaceEmbeddings\n",
    "\n",
    "# Pilih model Hugging Face yang ingin digunakan\n",
    "model_name = \"Rifky/Indobert-QA\"  # Model bahasa Indonesia yang populer\n",
    "\n",
    "# Inisialisasi pipeline Hugging Face\n",
    "qa_pipeline = pipeline(\"question-answering\", model=model_name, tokenizer=model_name, max_length=200)\n",
    "\n",
    "# Inisialisasi pemecah teks untuk memecah dokumen PDF menjadi bagian lebih kecil\n",
    "text_splitter = RecursiveCharacterTextSplitter(chunk_size=500, chunk_overlap=100)\n",
    "\n",
    "# Bungkus pdf_text menjadi objek Document\n",
    "\n",
    "\n",
    "# Memecah teks PDF\n",
    "splits = text_splitter.split_documents(documents)\n",
    "\n",
    "model = HuggingFaceEmbeddings(model_name=model_name)\n",
    "\n",
    "# Membuat vectorstore menggunakan Chroma dan embeddings dari Hugging Face\n",
    "vectorstore = Chroma.from_documents(\n",
    "    documents=splits,\n",
    "    embedding=model\n",
    ")\n",
    "\n",
    "# Mengatur vectorstore sebagai retriever\n",
    "retriever = vectorstore.as_retriever()\n",
    "\n",
    "# Fungsi untuk menggunakan model Hugging Face untuk menjawab pertanyaan berdasarkan konteks yang diambil\n",
    "def generate_answer(question, context):\n",
    "    inputs = {\n",
    "        \"question\": question,\n",
    "        \"context\": context\n",
    "    }\n",
    "    result = qa_pipeline(inputs)\n",
    "    return result\n",
    "\n",
    "# Fungsi untuk menggabungkan RAG (Retrieval-Augmented Generation)\n",
    "def rag_chain(query):\n",
    "    # Ambil konteks dari retriever\n",
    "    context = retriever.get_relevant_documents(query)\n",
    "    \n",
    "    # Ambil teks dari konteks yang diambil (hanya ambil bagian pertama untuk simplicity)\n",
    "    context_text = \" \".join([doc.page_content for doc in context[:1]])  # Ambil konteks pertama\n",
    "    \n",
    "    # Generate jawaban menggunakan model Hugging Face\n",
    "    answer = generate_answer(query, context_text)\n",
    "    return answer\n",
    "\n",
    "# Coba untuk query\n",
    "query = \"Salah satu bentuk aktivitas fisik yang cukup banyak digemari adalah?\"\n",
    "answer = rag_chain(query)\n",
    "print(answer)\n"
   ]
  },
  {
   "cell_type": "code",
   "execution_count": 38,
   "metadata": {},
   "outputs": [
    {
     "name": "stdout",
     "output_type": "stream",
     "text": [
      "{'score': 0.09950948506593704, 'start': 96, 'end': 111, 'answer': 'aspek usability'}\n"
     ]
    }
   ],
   "source": [
    "# Coba untuk query\n",
    "query = \"rumusan masalah dalam penelitian ini adalah?\"\n",
    "answer = rag_chain(query)\n",
    "print(answer)"
   ]
  }
 ],
 "metadata": {
  "kernelspec": {
   "display_name": "Python 3",
   "language": "python",
   "name": "python3"
  },
  "language_info": {
   "codemirror_mode": {
    "name": "ipython",
    "version": 3
   },
   "file_extension": ".py",
   "mimetype": "text/x-python",
   "name": "python",
   "nbconvert_exporter": "python",
   "pygments_lexer": "ipython3",
   "version": "3.12.3"
  }
 },
 "nbformat": 4,
 "nbformat_minor": 2
}
